{
 "cells": [
  {
   "cell_type": "markdown",
   "metadata": {},
   "source": [
    "# Refresh KSATT Open Source Graph Database\n",
    "\n",
    "### Usage\n",
    "\n",
    "Neo4j Version 4.4.5 was used at time of updating this.\n",
    "\n",
    "While all of these sources are relatively static, they do have version updates (on irregular cadences).  \n",
    "It is not urgent to incorporate these updates, so running these updates should be done monthly or quarterly and require a more significant rebuild of the KSATT graph database as well.  \n",
    "\n",
    "Prior to running this code for the first time, you should:\n",
    "- Ensure you have all python packages installed on your local machine (and optionally in the virtual environment you use to run this).\n",
    "- Create an empty new local Neo4j graph database. \n",
    "  - Start it upon creation, then stop it. \n",
    "  - Install the APOC plugin. \n",
    "  - Edit the settings file so that the minimum and maximum heap sizes are at least 1GB and 3GB respectively.\n",
    "  - You'll need to restart the database after making those changes to the configuration.\n",
    "- Substitute in your file path to the `neo4j_import_folder` variable in the *Prep* codeblock under *Download Data*. \n",
    "  - This file path can be found through Neo4j Desktop (... > Open folder > DBMS > import). I will open this directory in Finder then select \"New Terminal at Folder\" and `pwd` to copy and paste the full path. \n",
    "- Manually copy the `opm_onet_crosswalk.csv` file from this repository into the Neo4j DBMS import folder. \n",
    "\n",
    "Make sure your Neo4j database is started before running this code.  \n",
    "When this code is ran, it:\n",
    "- Downloads data from ONET, ESCO and NICE in the form of CSVs into the Neo4j import folder. **Remember to change `download_new_data` flag to True.**\n",
    "- Cleans all data in the Neo4j import folder in preparation for upload. \n",
    "- Clears a local **existing and running** Neo4j graph database, then uploads the newly downloaded and cleaned data. \n",
    "\n",
    "### To Do\n",
    "- Incorporate [ONET Crosswalks](https://www.onetcenter.org/crosswalks.html).\n",
    "- Possibly incorporate USA Jobs. \n",
    "\n",
    "### Cahnges in code to run in MemGraph\n",
    "- apoc.periodic.iterate -> periodic.iterate\n",
    "- WITH HEADERS -> WITH HEADER and move after csv file location\n",
    "- batchSize -> batch_size and only accepts one parameter, number in batch\n",
    "- YIELD operation did not work, changed to YIELD * RETURN * for now\n",
    "- added some functions specifically for mage and constraints"
   ]
  },
  {
   "cell_type": "markdown",
   "metadata": {},
   "source": [
    "# Upload to MEM"
   ]
  },
  {
   "cell_type": "markdown",
   "metadata": {},
   "source": [
    "## Clear Database and Assert Schema"
   ]
  },
  {
   "cell_type": "code",
   "execution_count": null,
   "metadata": {},
   "outputs": [],
   "source": [
    "# MATCH (n) DETACH DELETE n \n",
    "#from neo4j import GraphDatabase\n",
    " \n",
    "#URI = \"bolt://localhost:7687\"\n",
    "#AUTH = (\"  \"\")\n",
    " \n",
    "#with GraphDatabase.driver(URI, auth=AUTH) as client:\n",
    "\n",
    "#    query = \"CREATE CONSTRAINT ON (n:ONET_Major_Group) ASSERT n.key IS UNIQUE;\"\n",
    "#   client.execute_query(query)\n",
    " \n",
    "#with GraphDatabase.driver(URI, auth=AUTH).session() as session:\n",
    "#    session.run(\"CREATE CONSTRAINT ON (n:ONET_Major_Group) ASSERT n.key IS UNIQUE;\")"
   ]
  },
  {
   "cell_type": "markdown",
   "metadata": {},
   "source": [
    "## Constraints and Indexes"
   ]
  },
  {
   "cell_type": "code",
   "execution_count": null,
   "metadata": {},
   "outputs": [],
   "source": [
    "print(\"Removing all nodes and clearing the database schema for a fresh start\")\n",
    "# NOTE: had issue with broken connection or wire error, something like that - testing to see if upping heap size in neo4j.conf for the new database helps\n",
    " MATCH (n) DETACH DELETE n \n",
    "# CALL apoc.schema.assert({},{}, true)  # clear schema\n",
    "\n",
    "print(\"Assert unique index properties for nodes related to employee data - this makes searching faster and organization neater\")\n",
    "run_constraint_query(\"CREATE CONSTRAINT ON (n:ONET_Occupation) ASSERT n.key, n.title, n.description IS UNIQUE;\")\n",
    "run_constraint_query(\"CREATE INDEX ON :ONET_Occupation(key);\")\n",
    "run_constraint_query(\"CREATE CONSTRAINT ON (n:ONET_Major_Group) ASSERT n.key IS UNIQUE;\")\n",
    "run_constraint_query(\"CREATE INDEX ON :ONET_Major_Group(key);\")\n",
    "run_constraint_query(\"CREATE CONSTRAINT ON (n:ONET_Minor_Group) ASSERT n.key IS UNIQUE;\")\n",
    "run_constraint_query(\"CREATE INDEX ON :ONET_Minor_Group(key);\")\n",
    "run_constraint_query(\"CREATE CONSTRAINT ON (n:ONET_Broad_Occupation_Group) ASSERT n.key IS UNIQUE;\")\n",
    "run_constraint_query(\"CREATE INDEX ON :ONET_Broad_Occupation_Group(key);\")\n",
    "run_constraint_query(\"CREATE CONSTRAINT ON (n:ONET_Detailed_Occupation_Group) ASSERT n.key IS UNIQUE;\")\n",
    "run_constraint_query(\"CREATE INDEX ON :ONET_Detailed_Occupation_Group(key);\")\n",
    "\n",
    "run_constraint_query(\"CREATE CONSTRAINT ON (n:ONET_Scale) ASSERT n.key IS UNIQUE;\")\n",
    "run_constraint_query(\"CREATE INDEX ON :ONET_Scale(key);\")\n",
    "run_constraint_query(\"CREATE CONSTRAINT ON (n:ONET_Segment) ASSERT n.key, n.title IS UNIQUE;\") \n",
    "run_constraint_query(\"CREATE INDEX ON :ONET_Segment(key);\")\n",
    "run_constraint_query(\"CREATE CONSTRAINT ON (n:ONET_Family) ASSERT n.key, n.title IS UNIQUE;\")\n",
    "run_constraint_query(\"CREATE INDEX ON :ONET_Family(key);\")\n",
    "run_constraint_query(\"CREATE CONSTRAINT ON (n:ONET_Class) ASSERT n.key, n.title IS UNIQUE;\")\n",
    "run_constraint_query(\"CREATE INDEX ON :ONET_Class(key);\")\n",
    "run_constraint_query(\"CREATE CONSTRAINT ON (n:ONET_Commodity) ASSERT n.key, n.title IS UNIQUE;\")\n",
    "run_constraint_query(\"CREATE INDEX ON :ONET_Commodity(key);\")\n",
    "\n",
    "run_constraint_query(\"CREATE CONSTRAINT ON (n:ONET_Technology_Skills) ASSERT n.key, n.title IS UNIQUE;\")\n",
    "run_constraint_query(\"CREATE INDEX ON :ONET_Technology_Skills(key);\")\n",
    "run_constraint_query(\"CREATE CONSTRAINT ON (n:ONET_Tools) ASSERT n.key, n.title IS UNIQUE;\")\n",
    "run_constraint_query(\"CREATE INDEX ON :ONET_Tools(key);\")\n",
    "run_constraint_query(\"CREATE CONSTRAINT ON (n:ONET_Technology_Skills_Example) ASSERT n.title IS UNIQUE;\")\n",
    "run_constraint_query(\"CREATE INDEX ON :NET_Technology_Skills_Example(title);\")\n",
    "run_constraint_query(\"CREATE CONSTRAINT ON (n:ONET_Tools_Example) ASSERT n.title IS UNIQUE;\")\n",
    "run_constraint_query(\"CREATE INDEX ON :ONET_Tools_Example(title);\")\n",
    "run_constraint_query(\"CREATE CONSTRAINT ON (n:xc) ASSERT n.key, n.title IS UNIQUE;\")\n",
    "run_constraint_query(\"CREATE INDEX ON :ONET_Tools_Example(title);\")\n",
    "\n",
    "run_constraint_query(\"CREATE CONSTRAINT ON (n:ONET_Abilities) ASSERT n.key, n.title, n.description IS UNIQUE;\")\n",
    "run_constraint_query(\"CREATE INDEX ON :ONET_Abilities(key);\")\n",
    "run_constraint_query(\"CREATE CONSTRAINT ON (n:ONET_Interests_And_Work_Values) ASSERT n.key, n.title IS UNIQUE;\")\n",
    "run_constraint_query(\"CREATE INDEX ON :ONET_Interests_And_Work_Values(key);\")\n",
    "run_constraint_query(\"CREATE CONSTRAINT ON (n:ONET_Work_Styles) ASSERT n.key, n.title, n.description IS UNIQUE;\")\n",
    "run_constraint_query(\"CREATE INDEX ON :ONET_Work_Styles(key);\")\n",
    "run_constraint_query(\"CREATE CONSTRAINT ON (n:ONET_Basic_Skills) ASSERT n.key, n.title, n.description IS UNIQUE;\")\n",
    "run_constraint_query(\"CREATE INDEX ON :ONET_Basic_Skills(key);\")\n",
    "run_constraint_query(\"CREATE CONSTRAINT ON (n:ONET_Cross_Functional_Skills) ASSERT n.key, n.title, n.description IS UNIQUE;\")\n",
    "run_constraint_query(\"CREATE INDEX ON :ONET_Cross_Functional_Skills(key);\")\n",
    "run_constraint_query(\"CREATE CONSTRAINT ON (n:ONET_Knowledge) ASSERT n.key, n.title, n.description IS UNIQUE;\")\n",
    "run_constraint_query(\"CREATE INDEX ON :ONET_Knowledge(key);\")\n",
    "run_constraint_query(\"CREATE CONSTRAINT ON (n:ONET_Education) ASSERT n.key, n.title, n.description IS UNIQUE;\")\n",
    "run_constraint_query(\"CREATE INDEX ON :ONET_Education(key);\")\n",
    "run_constraint_query(\"CREATE CONSTRAINT ON (n:ONET_Education_Category) ASSERT n.key IS UNIQUE;\")\n",
    "run_constraint_query(\"CREATE INDEX ON :ONET_Education_Category(key);\")\n",
    "run_constraint_query(\"CREATE CONSTRAINT ON (n:ONET_Experience_And_Training) ASSERT n.key, n.title, n.description IS UNIQUE;\")\n",
    "run_constraint_query(\"CREATE INDEX ON :ONET_Experience_And_Training(key);\")\n",
    "run_constraint_query(\"CREATE CONSTRAINT ON (n:ONET_Experience_And_Training_Category) ASSERT n.key IS UNIQUE;\")\n",
    "run_constraint_query(\"CREATE INDEX ON :ONET_Experience_And_Training_Category(key);\")\n",
    "run_constraint_query(\"CREATE CONSTRAINT ON (n:ONET_Generalized_Work_Activities) ASSERT n.key, n.title, n.description IS UNIQUE;\")\n",
    "run_constraint_query(\"CREATE INDEX ON :ONET_Generalized_Work_Activities(key);\")\n",
    "run_constraint_query(\"CREATE CONSTRAINT ON (n:ONET_Intermediate_Work_Activities) ASSERT n.key, n.title, n.description IS UNIQUE;\")\n",
    "run_constraint_query(\"CREATE INDEX ON :ONET_Intermediate_Work_Activities(key);\")\n",
    "run_constraint_query(\"CREATE CONSTRAINT ON (n:ONET_Detailed_Work_Activities) ASSERT n.key, n.title, n.description IS UNIQUE;\")\n",
    "run_constraint_query(\"CREATE INDEX ON :ONET_Detailed_Work_Activities(key);\")\n",
    "run_constraint_query(\"CREATE CONSTRAINT ON (n:ONET_Work_Context) ASSERT n.key, n.title, n.description IS UNIQUE;\")\n",
    "run_constraint_query(\"CREATE INDEX ON :ONET_Work_Context(key);\")\n",
    "  \n",
    "run_constraint_query(\"CREATE CONSTRAINT ON (n:ESCO_Skills) ASSERT n.uri, n.key, n.alt_labels IS UNIQUE;\")\n",
    "run_constraint_query(\"CREATE INDEX ON :ESCO_Skills(key);\")\n",
    "run_constraint_query(\"CREATE CONSTRAINT ON (n:ESCO_Knowledge) ASSERT n.uri, n.key, n.description, n.alt_labels IS UNIQUE;\")\n",
    "run_constraint_query(\"CREATE INDEX ON :ESCO_Knowledge(key);\")\n",
    "run_constraint_query(\"CREATE CONSTRAINT ON (n:ESCO_Language) ASSERT n.uri, n.key, n.title, n.description, n.alt_labels IS UNIQUE;\")\n",
    "run_constraint_query(\"CREATE INDEX ON :ESCO_Language(key);\")\n",
    "run_constraint_query(\"CREATE CONSTRAINT ON (n:ESCO_Attitudes_Values) ASSERT n.uri, n.key, n.description, n.alt_labels IS UNIQUE;\")\n",
    "run_constraint_query(\"CREATE INDEX ON :ESCO_Attitudes_Values(uri);\")\n",
    "run_constraint_query(\"CREATE CONSTRAINT ON (n:ESCO_Occupation_Group) ASSERT n.uri, n.key, n.alt_labels, n.description IS UNIQUE;\")\n",
    "run_constraint_query(\"CREATE INDEX ON :ESCO_Occupation_Group(uri);\")\n",
    "run_constraint_query(\"CREATE CONSTRAINT ON (n:ESCO_Occupation) ASSERT n.uri, n.title, n.alt_labels, n.description, n.key IS UNIQUE;\")\n",
    "run_constraint_query(\"CREATE INDEX ON :ESCO_Occupation(uri);\")\n",
    "\n",
    "run_constraint_query(\"CREATE CONSTRAINT ON (n:NICE_Category) ASSERT n.title, n.acronym, n.description IS UNIQUE;\")\n",
    "run_constraint_query(\"CREATE INDEX ON :NICE_Category(title);\")\n",
    "run_constraint_query(\"CREATE CONSTRAINT ON (n:NICE_Area) ASSERT n.title, n.acronym, n.description IS UNIQUE;\")\n",
    "run_constraint_query(\"CREATE INDEX ON :NICE_Area(title);\")\n",
    "run_constraint_query(\"CREATE CONSTRAINT ON (n:NICE_Workrole) ASSERT n.key, n.title, n.description IS UNIQUE;\")\n",
    "run_constraint_query(\"CREATE INDEX ON :NICE_Workrole(key);\")\n",
    "run_constraint_query(\"CREATE CONSTRAINT ON (n:OPM_Cybersecurity_Category) ASSERT n.key IS UNIQUE;\")\n",
    "run_constraint_query(\"CREATE INDEX ON :OPM_Cybersecurity_Category(key);\")\n",
    "run_constraint_query(\"CREATE CONSTRAINT ON (n:NICE_Knowledge) ASSERT n.title IS UNIQUE;\")\n",
    "run_constraint_query(\"CREATE INDEX ON :NICE_Knowledge(title);\")\n",
    "run_constraint_query(\"CREATE CONSTRAINT ON (n:NICE_Skills) ASSERT n.title IS UNIQUE;\")\n",
    "run_constraint_query(\"CREATE INDEX ON :NICE_Skills(title);\")\n",
    "run_constraint_query(\"CREATE CONSTRAINT ON (n:NICE_Abilities) ASSERT n.title IS UNIQUE;\")\n",
    "run_constraint_query(\"CREATE INDEX ON :NICE_Abilities(title);\")\n",
    "run_constraint_query(\"CREATE CONSTRAINT ON (n:NICE_Tasks) ASSERT n.title IS UNIQUE;\") \n",
    "run_constraint_query(\"CREATE INDEX ON :NICE_Tasks(title);\")\n"
   ]
  },
  {
   "cell_type": "markdown",
   "metadata": {},
   "source": [
    "## Upload ONET Data"
   ]
  },
  {
   "cell_type": "code",
   "execution_count": null,
   "metadata": {},
   "outputs": [],
   "source": [
    "\n"
   ]
  },
  {
   "cell_type": "code",
   "execution_count": null,
   "metadata": {},
   "outputs": [],
   "source": [
    "\n",
    "        "
   ]
  },
  {
   "cell_type": "code",
   "execution_count": null,
   "metadata": {},
   "outputs": [],
   "source": [
    "\n",
    "\n",
    "    "
   ]
  },
  {
   "cell_type": "code",
   "execution_count": null,
   "metadata": {},
   "outputs": [],
   "source": [
    "\n",
    " "
   ]
  },
  {
   "cell_type": "code",
   "execution_count": null,
   "metadata": {},
   "outputs": [],
   "source": [
    "\n",
    "    \n",
    "\n"
   ]
  },
  {
   "cell_type": "code",
   "execution_count": null,
   "metadata": {},
   "outputs": [],
   "source": [
    "\n"
   ]
  },
  {
   "cell_type": "code",
   "execution_count": null,
   "metadata": {},
   "outputs": [],
   "source": [
    "\n"
   ]
  },
  {
   "cell_type": "code",
   "execution_count": null,
   "metadata": {},
   "outputs": [],
   "source": [
    "\n",
    "\n"
   ]
  },
  {
   "cell_type": "code",
   "execution_count": null,
   "metadata": {},
   "outputs": [],
   "source": []
  },
  {
   "cell_type": "code",
   "execution_count": null,
   "metadata": {},
   "outputs": [],
   "source": []
  },
  {
   "cell_type": "code",
   "execution_count": null,
   "metadata": {},
   "outputs": [],
   "source": [
    "\n",
    "\n",
    "\n",
    " \n",
    "\n",
    " \n"
   ]
  },
  {
   "cell_type": "code",
   "execution_count": null,
   "metadata": {},
   "outputs": [],
   "source": []
  },
  {
   "cell_type": "markdown",
   "metadata": {},
   "source": [
    "## Upload ESCO Data\n",
    "Notes:\n",
    "concept_Schemes didn't have anything helpful.  \n",
    "Everything from ictSkills was in transversalSkillsCollection."
   ]
  },
  {
   "cell_type": "code",
   "execution_count": null,
   "metadata": {},
   "outputs": [],
   "source": []
  },
  {
   "cell_type": "code",
   "execution_count": null,
   "metadata": {},
   "outputs": [],
   "source": []
  },
  {
   "cell_type": "code",
   "execution_count": null,
   "metadata": {},
   "outputs": [],
   "source": []
  },
  {
   "cell_type": "code",
   "execution_count": null,
   "metadata": {},
   "outputs": [],
   "source": []
  },
  {
   "cell_type": "code",
   "execution_count": null,
   "metadata": {},
   "outputs": [],
   "source": []
  },
  {
   "cell_type": "code",
   "execution_count": null,
   "metadata": {},
   "outputs": [],
   "source": [
    "\n"
   ]
  },
  {
   "cell_type": "code",
   "execution_count": null,
   "metadata": {},
   "outputs": [],
   "source": [
    "#TODO: try relating skills and occupations using a bit of web scraping\n",
    "\n",
    "# base_url = 'https://ec.europa.eu/esco/portal/occupation?uri=http%3A%2F%2Fdata.europa.eu%2Fesco%2Foccupation%2F00030d09-2b3a-4efd-87cc-c4ea39d27c34&conceptLanguage=en&full=true#&uri='\n",
    "# uri_list = run_query(\"\"\"MATCH (a:ESCO_Occupation) RETURN a.uri AS uri ['uri']\n",
    "# for uri in uri_list:\n",
    "#     try:\n",
    "#         r = requests.get(base_url+uri)\n",
    "#     except requests.exceptions.RequestException as e:\n",
    "#         print('ERROR: could not access uri.')\n",
    "#         raise SystemExit(e)\n",
    "#     soup = BeautifulSoup(r.text, 'html.parser')\n",
    "\n",
    "#     # https://stackoverflow.com/questions/5690686/using-nextsibling-from-beautifulsoup-outputs-nothing explains why you have to double up\n",
    "#     header_list = [\"Essential Knowledge\"]\n",
    "#     # header_list = [\"Essential Knowledge  \"Essential skills and competences  \"Optional skills and competences  \"Optional Knowledge\"]\n",
    "#     for h in header_list:\n",
    "#         # clear uri list and decide on relationship and label type depending on header\n",
    "#         ksatt_uris = []\n",
    "#         if 'essential' in h.lower():\n",
    "#             rel = 'ESSENTIAL_FOR'\n",
    "#         else:\n",
    "#             rel = 'OPTIONAL_FOR'\n",
    "#         if 'knowledge' in h.lower():\n",
    "#             label = 'ESCO_Knowledge'\n",
    "#         else:\n",
    "#             label = 'ESCO_Skills'\n",
    "#         # look for that header\n",
    "#         h2 = soup.find(\"h2  text=h)\n",
    "#         # if the header actually exists\n",
    "#         if h2 is not None:\n",
    "#             ul = h2.nextSibling.nextSibling # find the tag after the header - will be the unordered list keeping all the other ksatt links underneath\n",
    "#             for li in ul.find_all('li'): # find all the nested links\n",
    "# a = li.find('a') # grab the individual pieces\n",
    "# ksatt_uris.append(a.attrs['href']) # grab the link and add to our list of uris\n",
    "#             # once all the uris are collected for a header, create relationships of the right type between the occupation and the KSATT with that URI! \n",
    "#             for ksatt_uri in ksatt_uris:\n",
    "# run_query(\"\"\"\n",
    "#     MATCH (a:ESCO_Occupation {{uri: '{}'}})\n",
    "#     MATCH (b:{} {{uri: '{}'}})\n",
    "#     MERGE (a)<-[:{}]-(b)\n",
    "#          \"\".format(uri, label, ksatt_uri, rel))\n",
    "\n",
    "\n",
    "# # took 40m to get through 827/2942 ESCO_Occupations - essential AND optional knowledge/skills\n",
    "\n",
    "# # took ___ to get through__________ ESCO_Occupations - essential knowledge only\n",
    "\n",
    "# #28 per min avg\n",
    "# # with 2942 = 100 min"
   ]
  },
  {
   "cell_type": "markdown",
   "metadata": {},
   "source": [
    "## Upload NICE Data"
   ]
  },
  {
   "cell_type": "markdown",
   "metadata": {},
   "source": [
    "NICE Framework Background  \n",
    "- NIST (National Institute of Standards and Technology), NICCS (National Initiative for Cybersecurity Careers and Studies), OPM (Office of Personnel Management) all have a copy of the NICE (National Initiative for Cybersecurity Education) framework, which was developed by NICE. \n",
    "- Straight from OPM: OPM and DHS during the early stages of its collaborative endeavors co-led efforts to identify the cybersecurity workforce. With the direct engagement of over 20 Federal departments and agencies, and numerous public and private organizations, the National Initiative for Cybersecurity Education (NICE) developed the National Cybersecurity Workforce Framework (the Framework) to define cybersecurity work and lay a foundation for cybersecurity workforce efforts. The NICE Framework provides a common language and taxonomy, defines specialty areas and KSAs/competencies, and codifies talent.\n",
    "- NICCS has NICE embedded in their website https://niccs.cisa.gov/workforce-development/cyber-security-workforce-framework \n",
    "- NIST has an excel spreadsheet https://www.nist.gov/itl/applied-cybersecurity/nice/nice-framework-resource-center/workforce-framework-cybersecurity-nice \n",
    "- OPM has it in a PDF https://www.opm.gov/policy-data-oversight/classification-qualifications/reference-materials/interpretive-guidance-for-cybersecurity-positions.pdf \n",
    "Other Resources  \n",
    "  - https://csrc.nist.gov/projects/olir/focal-document-templates\n",
    "  - https://nvlpubs.nist.gov/nistpubs/CSWP/NIST.CSWP.04162018.pdf\n",
    "  - https://www.nist.gov/cyberframework/framework\n",
    "  - https://niccs.cisa.gov/workforce-development/cyber-security-workforce-framework\n",
    "  - Withdrawn: https://nvlpubs.nist.gov/nistpubs/SpecialPublications/NIST.SP.800-181.pdf\n",
    "  - Superseded by: https://nvlpubs.nist.gov/nistpubs/SpecialPublications/NIST.SP.800-181r1.pdf\n",
    "  - https://csrc.nist.gov/publications/detail/sp/800-181/rev-1/final\n",
    "  - https://niccs.cisa.gov/workforce-development/cyber-career-pathways\n",
    "  - https://niccs.cisa.gov/workforce-development\n",
    "OPM Cybersecurity Codes are different from regular OPM Series Codes  \n",
    "  - Grab Reference Spreadsheet https://www.nist.gov/itl/applied-cybersecurity/nice/nice-framework-resource-center/workforce-framework-cybersecurity-nice\n",
    "  - Table of Contents has OPM codes, but these are not the same as the ones from OPM - they're 3 digits instead of the GS-XXXX structure. Researching into it, OPM actually has separate codes for these cybersecurity roles https://dw.opm.gov/datastandards/referenceData/2273/current?category=&q=cybersecurity. \n",
    "  - Tried to figure out more about these cybersecurity-specific codes\n",
    "      - https://www.opm.gov/policy-data-oversight/classification-qualifications/classifying-general-schedule-positions/#url=Standards\n",
    "      - made sense to find cybersecurity under 2200 IT Group so went digging into that PDF https://www.opm.gov/policy-data-oversight/classification-qualifications/classifying-general-schedule-positions/standards/2200/gs2200a.pdf\n",
    "      - Searched for 2210 and found the IT Cybersecurity Specialist role, this additional document was linked https://www.opm.gov/policy-data-oversight/classification-qualifications/reference-materials/interpretive-guidance-for-cybersecurity-positions.pdf \n",
    "      - In that Interpretive Guidance for Cybersecurity Positions, there was the NICE framework and more explanations about these cybersecurity codes\n",
    "      - Hard to tell if they are supposed to be under the 2210 focus, or are just completely separate. \n",
    "          - Don't think it's just 2210 because a section of the PDF includes that they also have overlap with the 0855, 0854, and 0391 series. \n",
    "PDW has Cybersecurity codes that match with the ones in the NICE Framework, but...  \n",
    "  - These codes are actually results of something David did a couple years ago.\n",
    "  - He compared position descriptions of employees with the descriptions for the cybersecurity codes and recommended the top 3 codes based on the doc2vec results. \n",
    "  - Main issues with this now:\n",
    "      - Is it being maintained/updated live?\n",
    "      - The position descriptions used at that time were more detailed than the ones we have now - would be comparing different results. \n",
    "  - Possible solution might be that we infer the cybersecurity code based on KSATT overlap, rather than code crosswalking. "
   ]
  },
  {
   "cell_type": "code",
   "execution_count": null,
   "metadata": {},
   "outputs": [],
   "source": []
  },
  {
   "cell_type": "code",
   "execution_count": null,
   "metadata": {},
   "outputs": [],
   "source": [
    "\n"
   ]
  },
  {
   "cell_type": "markdown",
   "metadata": {},
   "source": [
    "## Crosswalk OPM and ONET"
   ]
  },
  {
   "cell_type": "code",
   "execution_count": null,
   "metadata": {},
   "outputs": [],
   "source": [
    "\n"
   ]
  },
  {
   "cell_type": "code",
   "execution_count": null,
   "metadata": {},
   "outputs": [],
   "source": []
  },
  {
   "cell_type": "code",
   "execution_count": null,
   "metadata": {},
   "outputs": [],
   "source": [
    "\n"
   ]
  }
 ],
 "metadata": {
  "kernelspec": {
   "display_name": "Python 3 (ipykernel)",
   "language": "python",
   "name": "python3"
  },
  "language_info": {
   "codemirror_mode": {
    "name": "ipython",
    "version": 3
   },
   "file_extension": ".py",
   "mimetype": "text/x-python",
   "name": "python",
   "nbconvert_exporter": "python",
   "pygments_lexer": "ipython3",
   "version": "3.10.4"
  },
  "vscode": {
   "interpreter": {
    "hash": "515d34f2bce719b596f3fc388ecb095fb9a637c1e6a8f10b32ddbd0646bb41aa"
   }
  }
 },
 "nbformat": 4,
 "nbformat_minor": 4
}
