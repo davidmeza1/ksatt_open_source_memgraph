{
 "cells": [
  {
   "cell_type": "code",
   "execution_count": 1,
   "metadata": {},
   "outputs": [
    {
     "name": "stdout",
     "output_type": "stream",
     "text": [
      "John\n",
      "{'labels_added': 1, 'labels_removed': 0, 'nodes_created': 1, 'nodes_deleted': 0, 'properties_set': 0, 'relationships_created': 0, 'relationships_deleted': 0}\n",
      "John\n",
      "MATCH (u:User {name: $name}) RETURN u.name AS name\n"
     ]
    }
   ],
   "source": [
    "from neo4j import GraphDatabase\n",
    " \n",
    "# Define correct URI and AUTH arguments (no AUTH by default)\n",
    "URI = \"bolt://localhost:7687\"\n",
    "AUTH = (\"\", \"\\n",
    " \n",
    "with GraphDatabase.driver(URI, auth=AUTH) as client:\n",
    "    # Check the connection\n",
    "    client.verify_connectivity()\n",
    " \n",
    "    # Create a user in the database\n",
    "    records, summary, keys = client.execute_query(\n",
    "        \"CREATE (u:User {name: $name, password: $password}) RETURN u.name AS name;\",\n",
    "        name=\"John\",\n",
    "        password=\"pass\",\n",
    "        database_=\"memgraph\",\n",
    "    )\n",
    " \n",
    "    # Get the result\n",
    "    for record in records:\n",
    "        print(record[\"name\"])\n",
    " \n",
    "    # Print the query counters\n",
    "    print(summary.counters)\n",
    " \n",
    "    # Find a user John in the database\n",
    "    records, summary, keys = client.execute_query(\n",
    "        \"MATCH (u:User {name: $name}) RETURN u.name AS name\",\n",
    "        name=\"John\",\n",
    "        database_=\"memgraph\",\n",
    "    )\n",
    " \n",
    "    # Get the result\n",
    "    for record in records:\n",
    "        print(record[\"name\"])\n",
    " \n",
    "    # Print the query\n",
    "    print(summary.query)"
   ]
  }
 ],
 "metadata": {
  "kernelspec": {
   "display_name": "Python 3",
   "language": "python",
   "name": "python3"
  },
  "language_info": {
   "codemirror_mode": {
    "name": "ipython",
    "version": 3
   },
   "file_extension": ".py",
   "mimetype": "text/x-python",
   "name": "python",
   "nbconvert_exporter": "python",
   "pygments_lexer": "ipython3",
   "version": "3.10.4"
  }
 },
 "nbformat": 4,
 "nbformat_minor": 2
}
